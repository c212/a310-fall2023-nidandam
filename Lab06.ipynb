{
 "cells": [
  {
   "cell_type": "code",
   "execution_count": null,
   "id": "78ceb566-000c-485a-ac94-fb2515b4d0c0",
   "metadata": {},
   "outputs": [],
   "source": [
    "def hanoi(n):\n",
    "    if n == 1:\n",
    "        print(\"Move from \" + a + \"to\" + b)\n",
    "    else:\n",
    "        hanoi(n-1 , a , c, b)\n",
    "        print(\"Move from \" + a + \"to\" + b)\n",
    "        hanoi(n-1 , c, b , a)\n",
    "        "
   ]
  },
  {
   "cell_type": "code",
   "execution_count": null,
   "id": "c155b223-6787-4be4-ba6d-f82fb0917c24",
   "metadata": {},
   "outputs": [],
   "source": [
    "hanoi(4, \"1\",\"2\",\"3\")"
   ]
  },
  {
   "cell_type": "code",
   "execution_count": 8,
   "id": "b496da69-0b19-41d8-84b1-2f7ded6faae2",
   "metadata": {},
   "outputs": [],
   "source": [
    "def fact(n):\n",
    "    if n == 0:\n",
    "        return 1\n",
    "    else:\n",
    "        return n * fact(n-1)"
   ]
  },
  {
   "cell_type": "code",
   "execution_count": 2,
   "id": "5f4e6d7e-fcfb-4bd3-897e-89792f4dd21e",
   "metadata": {},
   "outputs": [
    {
     "name": "stdout",
     "output_type": "stream",
     "text": [
      "i= 0 , char = a\n",
      "i= 0 , char = b\n",
      "i= 1 , char = c\n",
      "i= 1 , char = b\n",
      "i= 0 , char = a\n",
      "i= 1 , char = c\n",
      "i= 2 , char = c\n",
      "i= 0 , char = a\n",
      "i= 1 , char = b\n",
      "['abc', 'acb', 'bac', 'bca', 'cab', 'cba']\n"
     ]
    }
   ],
   "source": [
    "def perm(x):\n",
    "    if len(x) == 1:\n",
    "        return [x]\n",
    "    \n",
    "    permutations = []\n",
    "    \n",
    "    for i, char in enumerate(x):\n",
    "        # A string without our current character\n",
    "        print(f\"i= {i} , char = {char}\")\n",
    "        a = x[:i] + x[i+1:]\n",
    "        perms_a = perm(a)\n",
    "        for p in perms_a:\n",
    "            permutations.append(char + p)\n",
    "    \n",
    "    return permutations\n",
    "\n",
    "\n",
    "input_string = \"abc\"\n",
    "result = perm(input_string)\n",
    "print(result)\n"
   ]
  },
  {
   "cell_type": "code",
   "execution_count": 10,
   "id": "ba9af61d-c867-4101-b0b8-3f1497326742",
   "metadata": {},
   "outputs": [
    {
     "data": {
      "text/plain": [
       "['hat', 'hta', 'aht', 'ath', 'tha', 'tah']"
      ]
     },
     "execution_count": 10,
     "metadata": {},
     "output_type": "execute_result"
    }
   ],
   "source": [
    "perm(\"hat\")"
   ]
  },
  {
   "cell_type": "code",
   "execution_count": 11,
   "id": "9dbc5505-97fd-4484-9eae-2185bb917231",
   "metadata": {},
   "outputs": [
    {
     "name": "stdout",
     "output_type": "stream",
     "text": [
      "All assertions passed without a problem\n"
     ]
    }
   ],
   "source": [
    "assert sorted(perm(\"hat\")) == sorted(['hat', 'aht', 'ath', 'hta', 'tha', 'tah']), \"First assert fails.\"\n",
    "assert len(perm(\"race\")) == fact(len(\"race\")), \"Second assert fails.\"\n",
    "assert len(perm(\"whatever\")) == 40320, \"Third assert failed.\"\n",
    "print (\"All assertions passed without a problem\")"
   ]
  },
  {
   "cell_type": "code",
   "execution_count": null,
   "id": "7cec8dc5-e8cf-4ea9-bfd4-cde892e557e9",
   "metadata": {},
   "outputs": [],
   "source": []
  },
  {
   "cell_type": "code",
   "execution_count": 15,
   "id": "689989a8-e31e-4986-b5d9-7ab37b4bface",
   "metadata": {},
   "outputs": [
    {
     "data": {
      "text/plain": [
       "'abc (1)(2)(3)(4)(5)(6)(7)(8)'"
      ]
     },
     "execution_count": 15,
     "metadata": {},
     "output_type": "execute_result"
    }
   ],
   "source": [
    "import re \n",
    "digit = \"abc 12345678\"\n",
    "first_transformation=re.sub('(\\d)',r\"(\\1)\",digit)\n",
    "print(first_transformation)\n"
   ]
  },
  {
   "cell_type": "code",
   "execution_count": 16,
   "id": "3256a01a-371a-4c89-8f0a-5f5b6d9aaf5c",
   "metadata": {},
   "outputs": [
    {
     "data": {
      "text/plain": [
       "'21435 7698'"
      ]
     },
     "execution_count": 16,
     "metadata": {},
     "output_type": "execute_result"
    }
   ],
   "source": [
    "digits=\"12345 6789\"\n",
    "re.sub(\"(\\d)(\\d)\",r\"\\2\\1\",digits)\n"
   ]
  },
  {
   "cell_type": "code",
   "execution_count": 19,
   "id": "622e49e6-98c8-45f7-ba09-208a984e86cc",
   "metadata": {},
   "outputs": [
    {
     "data": {
      "text/plain": [
       "'375 1317'"
      ]
     },
     "execution_count": 19,
     "metadata": {},
     "output_type": "execute_result"
    }
   ],
   "source": [
    "digits=\"12345 6789\"\n",
    "\n",
    "def add(a,b):\n",
    "    return int(a) + int(b)\n",
    "\n",
    "def radd(match):\n",
    "    a= match.group(1)\n",
    "    b= match.group(2)\n",
    "    return str(add(a,b))\n",
    "    \n",
    "re.sub('(\\d)(\\d)',radd,digits)\n",
    "    "
   ]
  },
  {
   "cell_type": "code",
   "execution_count": 4,
   "id": "3cd24053-ce4c-4935-b983-c79e7c74c7c8",
   "metadata": {},
   "outputs": [
    {
     "data": {
      "text/plain": [
       "['hello',\n",
       " 'helol',\n",
       " 'hello',\n",
       " 'helol',\n",
       " 'heoll',\n",
       " 'heoll',\n",
       " 'hlelo',\n",
       " 'hleol',\n",
       " 'hlleo',\n",
       " 'hlloe',\n",
       " 'hloel',\n",
       " 'hlole',\n",
       " 'hlelo',\n",
       " 'hleol',\n",
       " 'hlleo',\n",
       " 'hlloe',\n",
       " 'hloel',\n",
       " 'hlole',\n",
       " 'hoell',\n",
       " 'hoell',\n",
       " 'holel',\n",
       " 'holle',\n",
       " 'holel',\n",
       " 'holle',\n",
       " 'ehllo',\n",
       " 'ehlol',\n",
       " 'ehllo',\n",
       " 'ehlol',\n",
       " 'eholl',\n",
       " 'eholl',\n",
       " 'elhlo',\n",
       " 'elhol',\n",
       " 'ellho',\n",
       " 'elloh',\n",
       " 'elohl',\n",
       " 'elolh',\n",
       " 'elhlo',\n",
       " 'elhol',\n",
       " 'ellho',\n",
       " 'elloh',\n",
       " 'elohl',\n",
       " 'elolh',\n",
       " 'eohll',\n",
       " 'eohll',\n",
       " 'eolhl',\n",
       " 'eollh',\n",
       " 'eolhl',\n",
       " 'eollh',\n",
       " 'lhelo',\n",
       " 'lheol',\n",
       " 'lhleo',\n",
       " 'lhloe',\n",
       " 'lhoel',\n",
       " 'lhole',\n",
       " 'lehlo',\n",
       " 'lehol',\n",
       " 'lelho',\n",
       " 'leloh',\n",
       " 'leohl',\n",
       " 'leolh',\n",
       " 'llheo',\n",
       " 'llhoe',\n",
       " 'lleho',\n",
       " 'lleoh',\n",
       " 'llohe',\n",
       " 'lloeh',\n",
       " 'lohel',\n",
       " 'lohle',\n",
       " 'loehl',\n",
       " 'loelh',\n",
       " 'lolhe',\n",
       " 'loleh',\n",
       " 'lhelo',\n",
       " 'lheol',\n",
       " 'lhleo',\n",
       " 'lhloe',\n",
       " 'lhoel',\n",
       " 'lhole',\n",
       " 'lehlo',\n",
       " 'lehol',\n",
       " 'lelho',\n",
       " 'leloh',\n",
       " 'leohl',\n",
       " 'leolh',\n",
       " 'llheo',\n",
       " 'llhoe',\n",
       " 'lleho',\n",
       " 'lleoh',\n",
       " 'llohe',\n",
       " 'lloeh',\n",
       " 'lohel',\n",
       " 'lohle',\n",
       " 'loehl',\n",
       " 'loelh',\n",
       " 'lolhe',\n",
       " 'loleh',\n",
       " 'ohell',\n",
       " 'ohell',\n",
       " 'ohlel',\n",
       " 'ohlle',\n",
       " 'ohlel',\n",
       " 'ohlle',\n",
       " 'oehll',\n",
       " 'oehll',\n",
       " 'oelhl',\n",
       " 'oellh',\n",
       " 'oelhl',\n",
       " 'oellh',\n",
       " 'olhel',\n",
       " 'olhle',\n",
       " 'olehl',\n",
       " 'olelh',\n",
       " 'ollhe',\n",
       " 'olleh',\n",
       " 'olhel',\n",
       " 'olhle',\n",
       " 'olehl',\n",
       " 'olelh',\n",
       " 'ollhe',\n",
       " 'olleh']"
      ]
     },
     "execution_count": 4,
     "metadata": {},
     "output_type": "execute_result"
    }
   ],
   "source": [
    "def perm(x):\n",
    "    if len(x) == 1:\n",
    "        return [x]\n",
    "    else:\n",
    "        permutations=[]\n",
    "        for i , char in enumerate(x):\n",
    "            p=x[:i]+x[i+1:]\n",
    "            perms=perm(p)\n",
    "            for i in perms:\n",
    "                permutations.append( char + i)\n",
    "        return permutations\n",
    "\n",
    "x=\"hello\"\n",
    "perm(x)"
   ]
  },
  {
   "cell_type": "code",
   "execution_count": 10,
   "id": "29d769d4-1dac-45a6-a8ef-9adec2c5ea1c",
   "metadata": {},
   "outputs": [
    {
     "name": "stdout",
     "output_type": "stream",
     "text": [
      " _3\n",
      "/  \n",
      "5  \n",
      " \\ \n",
      " 1 \n",
      "------------\n",
      " _3_ \n",
      "/   \\\n",
      "5   7\n",
      " \\ / \n",
      " 1 4 \n",
      "------------\n",
      " _3   \n",
      "/  \\  \n",
      "5  2_ \n",
      " \\   \\\n",
      " 1   7\n",
      "    / \n",
      "    4 \n"
     ]
    }
   ],
   "source": [
    "import random\n",
    "class Bst:\n",
    "    def __init__(self,value):\n",
    "        self.key= value\n",
    "        self.left=None\n",
    "        self.right=None\n",
    "    def insert(self,value):\n",
    "        if self.key == value:\n",
    "            return value\n",
    "        else:\n",
    "            if self.key < value:\n",
    "                if self.right is None:\n",
    "                    self.right=Bst(value)\n",
    "                else:\n",
    "                    self.right.insert(value)\n",
    "            elif self.key > value:\n",
    "                if self.left is None:\n",
    "                    self.left=Bst(value)\n",
    "                else:\n",
    "                    self.left.insert(value)\n",
    "    def remove(self,value):\n",
    "        if self.key == value:\n",
    "            if self.left is None:\n",
    "                return self.right\n",
    "            elif self.right is None:\n",
    "                return self.left\n",
    "            else:\n",
    "                p=self.right.get_min_value(value)\n",
    "                self.key=p\n",
    "                self.right=self.right.remove(value)\n",
    "        elif self.key > value:\n",
    "            if self.left:\n",
    "                self.left=self.left.remove(value)\n",
    "        elif self.key < value:\n",
    "            if self.right:\n",
    "                self.right=self.right.remove(value)\n",
    "    def get_min_value(self,value):\n",
    "        if self.left is None:\n",
    "            return self.key\n",
    "        else:\n",
    "            self.left.get_min_value(value)\n",
    "    def display(self):\n",
    "        lines, *_ = self._display_aux()\n",
    "        for line in lines:\n",
    "            print(line)\n",
    "    \n",
    "    def _display_aux(self):\n",
    "        \"\"\"Returns a list of strings, width, height, and horizontal coordinate of the root.\"\"\"\n",
    "        # No child.\n",
    "        if self.right is None and self.left is None:\n",
    "            line = '%s' % self.key\n",
    "            width = len(line)\n",
    "            height = 1\n",
    "            middle = width // 2\n",
    "            return [line], width, height, middle\n",
    "        # Only left child.\n",
    "        if self.right is None:\n",
    "            lines, n, p, x = self.left._display_aux()\n",
    "            s = '%s' % self.key\n",
    "            u = len(s)\n",
    "            first_line = (x + 1) * ' ' + (n - x - 1) * '_' + s\n",
    "            second_line = x * ' ' + '/' + (n - x - 1 + u) * ' '\n",
    "            shifted_lines = [line + u * ' ' for line in lines]\n",
    "            return [first_line, second_line] + shifted_lines, n + u, p + 2, n + u // 2\n",
    "        # Only right child.\n",
    "        if self.left is None:\n",
    "            lines, n, p, x = self.right._display_aux()\n",
    "            s = '%s' % self.key\n",
    "            u = len(s)\n",
    "            first_line = s + x * '_' + (n - x) * ' '\n",
    "            second_line = (u + x) * ' ' + '\\\\' + (n - x - 1) * ' '\n",
    "            shifted_lines = [u * ' ' + line for line in lines]\n",
    "            return [first_line, second_line] + shifted_lines, n + u, p + 2, u // 2\n",
    "        # Two children.\n",
    "        left, n, p, x = self.left._display_aux()\n",
    "        right, m, q, y = self.right._display_aux()\n",
    "        s = '%s' % self.key\n",
    "        u = len(s)\n",
    "        first_line = (x + 1) * ' ' + (n - x - 1) * '_' + s + y * '_' + (m - y) * ' '\n",
    "        second_line = x * ' ' + '/' + (n - x - 1 + u + y) * ' ' + '\\\\' + (m - y - 1) * ' '\n",
    "        if p < q:\n",
    "            left += [n * ' '] * (q - p)\n",
    "        elif q < p:\n",
    "            right += [m * ' '] * (p - q)\n",
    "        zipped_lines = zip(left, right)\n",
    "        lines = [first_line, second_line] + [a + u * ' ' + b for a, b in zipped_lines]\n",
    "        return lines, n + m + u, max(p, q) + 2, n + u // 2\n",
    "\n",
    "a = Bst(3)\n",
    "a.left = Bst(5)\n",
    "a.left.right = Bst(1)\n",
    "a.display()\n",
    "print(\"------------\")\n",
    "b = Bst(7)\n",
    "b.left = Bst(4)\n",
    "a.right = b\n",
    "a.display()\n",
    "print(\"------------\")\n",
    "b = Bst(2)\n",
    "b.right = a.right\n",
    "a.right = b\n",
    "a.display()\n",
    "                \n",
    "    "
   ]
  },
  {
   "cell_type": "code",
   "execution_count": 13,
   "id": "8d43aa85-d2df-4275-bb69-714c5a596d9e",
   "metadata": {},
   "outputs": [
    {
     "data": {
      "text/plain": [
       "40320"
      ]
     },
     "execution_count": 13,
     "metadata": {},
     "output_type": "execute_result"
    }
   ],
   "source": [
    "def fact(p):\n",
    "    if p == 0:\n",
    "        return 1\n",
    "    else:\n",
    "        return p * fact(p-1)\n",
    "\n",
    "fact(8)\n",
    "        "
   ]
  },
  {
   "cell_type": "code",
   "execution_count": 16,
   "id": "701325b6-31be-4783-b590-900be552329e",
   "metadata": {},
   "outputs": [
    {
     "data": {
      "text/plain": [
       "['hello',\n",
       " 'helol',\n",
       " 'hello',\n",
       " 'helol',\n",
       " 'heoll',\n",
       " 'heoll',\n",
       " 'hlelo',\n",
       " 'hleol',\n",
       " 'hlleo',\n",
       " 'hlloe',\n",
       " 'hloel',\n",
       " 'hlole',\n",
       " 'hlelo',\n",
       " 'hleol',\n",
       " 'hlleo',\n",
       " 'hlloe',\n",
       " 'hloel',\n",
       " 'hlole',\n",
       " 'hoell',\n",
       " 'hoell',\n",
       " 'holel',\n",
       " 'holle',\n",
       " 'holel',\n",
       " 'holle',\n",
       " 'ehllo',\n",
       " 'ehlol',\n",
       " 'ehllo',\n",
       " 'ehlol',\n",
       " 'eholl',\n",
       " 'eholl',\n",
       " 'elhlo',\n",
       " 'elhol',\n",
       " 'ellho',\n",
       " 'elloh',\n",
       " 'elohl',\n",
       " 'elolh',\n",
       " 'elhlo',\n",
       " 'elhol',\n",
       " 'ellho',\n",
       " 'elloh',\n",
       " 'elohl',\n",
       " 'elolh',\n",
       " 'eohll',\n",
       " 'eohll',\n",
       " 'eolhl',\n",
       " 'eollh',\n",
       " 'eolhl',\n",
       " 'eollh',\n",
       " 'lhelo',\n",
       " 'lheol',\n",
       " 'lhleo',\n",
       " 'lhloe',\n",
       " 'lhoel',\n",
       " 'lhole',\n",
       " 'lehlo',\n",
       " 'lehol',\n",
       " 'lelho',\n",
       " 'leloh',\n",
       " 'leohl',\n",
       " 'leolh',\n",
       " 'llheo',\n",
       " 'llhoe',\n",
       " 'lleho',\n",
       " 'lleoh',\n",
       " 'llohe',\n",
       " 'lloeh',\n",
       " 'lohel',\n",
       " 'lohle',\n",
       " 'loehl',\n",
       " 'loelh',\n",
       " 'lolhe',\n",
       " 'loleh',\n",
       " 'lhelo',\n",
       " 'lheol',\n",
       " 'lhleo',\n",
       " 'lhloe',\n",
       " 'lhoel',\n",
       " 'lhole',\n",
       " 'lehlo',\n",
       " 'lehol',\n",
       " 'lelho',\n",
       " 'leloh',\n",
       " 'leohl',\n",
       " 'leolh',\n",
       " 'llheo',\n",
       " 'llhoe',\n",
       " 'lleho',\n",
       " 'lleoh',\n",
       " 'llohe',\n",
       " 'lloeh',\n",
       " 'lohel',\n",
       " 'lohle',\n",
       " 'loehl',\n",
       " 'loelh',\n",
       " 'lolhe',\n",
       " 'loleh',\n",
       " 'ohell',\n",
       " 'ohell',\n",
       " 'ohlel',\n",
       " 'ohlle',\n",
       " 'ohlel',\n",
       " 'ohlle',\n",
       " 'oehll',\n",
       " 'oehll',\n",
       " 'oelhl',\n",
       " 'oellh',\n",
       " 'oelhl',\n",
       " 'oellh',\n",
       " 'olhel',\n",
       " 'olhle',\n",
       " 'olehl',\n",
       " 'olelh',\n",
       " 'ollhe',\n",
       " 'olleh',\n",
       " 'olhel',\n",
       " 'olhle',\n",
       " 'olehl',\n",
       " 'olelh',\n",
       " 'ollhe',\n",
       " 'olleh']"
      ]
     },
     "execution_count": 16,
     "metadata": {},
     "output_type": "execute_result"
    }
   ],
   "source": [
    "def perm(str):\n",
    "    if len(str) == 1:\n",
    "        return [str]\n",
    "    else:\n",
    "        permutations=[]\n",
    "        for i in range(0,len(str)):\n",
    "            d=str[:i]+str[i+1:]\n",
    "            result=perm(d)\n",
    "            for j in result:\n",
    "                permutations.append( str[i] + j)\n",
    "        return permutations\n",
    "perm(\"hello\")"
   ]
  },
  {
   "cell_type": "code",
   "execution_count": 20,
   "id": "b9c018b6-96c5-4ea8-923d-f75ba23e1cec",
   "metadata": {},
   "outputs": [
    {
     "name": "stdout",
     "output_type": "stream",
     "text": [
      "8003\n"
     ]
    }
   ],
   "source": [
    "import random\n",
    "def generate_flips(p):\n",
    "    c=[]\n",
    "    for i in range(100):\n",
    "        t=random.randint(0,1)\n",
    "        if t == 0:\n",
    "            c.append(\"Heads\")\n",
    "        else:\n",
    "            c.append(\"Tails\")\n",
    "    return c\n",
    "            \n",
    "def has_streak(count_pairs):\n",
    "    for i in range(0,len(count_pairs)-streak_length):\n",
    "        if count_pairs[i:i+streak_length] == [\"Heads\"] * streak_length or count_pairs[i:i+streak_length] == [\"Tails\"] * streak_length:\n",
    "            return True\n",
    "    return False\n",
    "\n",
    "\n",
    "no_of_exp=10000\n",
    "streak_length=6\n",
    "result=0\n",
    "for i in range(no_of_exp):\n",
    "    count_pairs=generate_flips(100)\n",
    "    if has_streak(count_pairs):\n",
    "        result+=1\n",
    "print(result)\n",
    "    "
   ]
  },
  {
   "cell_type": "code",
   "execution_count": null,
   "id": "5a16a714-7e7e-4553-b450-0ddce8d8bba5",
   "metadata": {},
   "outputs": [],
   "source": []
  }
 ],
 "metadata": {
  "kernelspec": {
   "display_name": "Python 3 (ipykernel)",
   "language": "python",
   "name": "python3"
  },
  "language_info": {
   "codemirror_mode": {
    "name": "ipython",
    "version": 3
   },
   "file_extension": ".py",
   "mimetype": "text/x-python",
   "name": "python",
   "nbconvert_exporter": "python",
   "pygments_lexer": "ipython3",
   "version": "3.11.4"
  }
 },
 "nbformat": 4,
 "nbformat_minor": 5
}
