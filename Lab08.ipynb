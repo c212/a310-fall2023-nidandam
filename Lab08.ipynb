{
 "cells": [
  {
   "cell_type": "code",
   "execution_count": 1,
   "id": "80c7d094-326d-4e30-83c4-b61baccf008a",
   "metadata": {},
   "outputs": [
    {
     "name": "stdout",
     "output_type": "stream",
     "text": [
      "[1 2 3 4 5]\n"
     ]
    }
   ],
   "source": [
    "#1\n",
    "\n",
    "import numpy as np\n",
    "\n",
    "\n",
    "a = np.array([1, 2, 3, 4, 5])\n",
    "print(a)  # [1 2 3 4 5]\n"
   ]
  },
  {
   "cell_type": "code",
   "execution_count": 2,
   "id": "9a60417f-936d-45be-bd34-7d88699e0f8c",
   "metadata": {},
   "outputs": [
    {
     "name": "stdout",
     "output_type": "stream",
     "text": [
      "1\n",
      "[1 2 3 4]\n",
      "2\n",
      "[[1 2 3 4]]\n",
      "3\n",
      "[[[1 2 3 4]]]\n"
     ]
    }
   ],
   "source": [
    "#2\n",
    "def what(n):\n",
    "  a = np.array([1, 2, 3, 4], ndmin=n)\n",
    "  print(a.ndim)\n",
    "  return a\n",
    "\n",
    "\n",
    "\n",
    "print(what(1)) # what do these print and why?\n",
    "print(what(2))\n",
    "print(what(3))"
   ]
  },
  {
   "cell_type": "code",
   "execution_count": 3,
   "id": "7371238d-e9cf-4e0c-bb79-864fddb0c901",
   "metadata": {},
   "outputs": [
    {
     "name": "stdout",
     "output_type": "stream",
     "text": [
      "1\n",
      "2\n"
     ]
    }
   ],
   "source": [
    "#3\n",
    "import numpy as np\n",
    "\n",
    "a = np.array([1, 2, 3, 4])\n",
    "print(a.ndim)  # should print 1 (refers to a)\n",
    "\n",
    "b = np.array([[1, 2], [3, 4]])\n",
    "print(b.ndim)  # should print 2 (refers to b)\n"
   ]
  },
  {
   "cell_type": "code",
   "execution_count": 4,
   "id": "9f593640-8a4c-4052-bc85-05bb94c22f28",
   "metadata": {},
   "outputs": [
    {
     "name": "stdout",
     "output_type": "stream",
     "text": [
      "[[1 2 3 4]]\n"
     ]
    }
   ],
   "source": [
    "#4\n",
    "a = np.array([1, 2, 3, 4], ndmin=2)\n",
    "print(a) \n"
   ]
  },
  {
   "cell_type": "code",
   "execution_count": 5,
   "id": "cb9a7c3f-03f8-4fa2-a8c1-3c2514c9c106",
   "metadata": {},
   "outputs": [
    {
     "name": "stdout",
     "output_type": "stream",
     "text": [
      "50\n"
     ]
    }
   ],
   "source": [
    "#5\n",
    "import numpy as np\n",
    "\n",
    "a = np.array([10, 20, 30, 40, 50])\n",
    "print(a[4])  # should print 50 (refers to a)\n"
   ]
  },
  {
   "cell_type": "code",
   "execution_count": 6,
   "id": "3742b9f5-e1a3-4081-bde9-96ca313373e1",
   "metadata": {},
   "outputs": [
    {
     "name": "stdout",
     "output_type": "stream",
     "text": [
      "50\n"
     ]
    }
   ],
   "source": [
    "\n",
    "#6\n",
    "a = np.array([[10, 20, 30, 40], [50, 60, 70, 80]])\n",
    "print(a[1, 0])  # should print 50 (refers to a)\n"
   ]
  },
  {
   "cell_type": "code",
   "execution_count": 7,
   "id": "5cf68ed9-2fe7-4293-9859-f30f539a6530",
   "metadata": {},
   "outputs": [
    {
     "name": "stdout",
     "output_type": "stream",
     "text": [
      "50\n"
     ]
    }
   ],
   "source": [
    "\n",
    "#7\n",
    "a = np.array([[10, 20, 30, 40], [50, 60, 70, 80]])\n",
    "\n",
    "# Print the number 50\n",
    "print(a[1, 0])"
   ]
  },
  {
   "cell_type": "code",
   "execution_count": 8,
   "id": "b58e8141-225c-4eb0-99b6-7d614a63dd85",
   "metadata": {},
   "outputs": [
    {
     "name": "stdout",
     "output_type": "stream",
     "text": [
      "50\n"
     ]
    }
   ],
   "source": [
    "#8\n",
    "\n",
    "\n",
    "a = np.array([10, 20, 30, 40, 50])\n",
    "\n",
    "# Print the last item using negative indexing\n",
    "print(a[-1])"
   ]
  },
  {
   "cell_type": "code",
   "execution_count": null,
   "id": "7ebc670b-7ef9-4b5f-8f8f-6e12ebe526f1",
   "metadata": {},
   "outputs": [],
   "source": [
    "#9\n",
    "a = np.array([10, 15, 20, 25, 30, 35, 40])\n",
    "result = a[1:4]\n",
    "print(result)\n"
   ]
  },
  {
   "cell_type": "code",
   "execution_count": null,
   "id": "92ef7dd9-3356-4929-8124-99b568f86295",
   "metadata": {},
   "outputs": [],
   "source": [
    "#10\n",
    "import numpy as np\n",
    "\n",
    "a = np.array([10, 15, 20, 25, 30, 35, 40])\n",
    "\n",
    "\n",
    "result = a[2:4]\n",
    "\n",
    "print(result)\n"
   ]
  },
  {
   "cell_type": "code",
   "execution_count": null,
   "id": "a146e1d3-f6c1-42ab-bb7f-6147189e936d",
   "metadata": {},
   "outputs": [],
   "source": [
    "# 11\n",
    "import numpy as np\n",
    "\n",
    "a = np.array([10, 15, 20, 25, 30, 35, 40])\n",
    "\n",
    "\n",
    "result = a[1:4:2]\n",
    "\n",
    "print(result)  \n"
   ]
  },
  {
   "cell_type": "code",
   "execution_count": 9,
   "id": "b103922e-289f-4b24-88ad-066cec41a276",
   "metadata": {},
   "outputs": [
    {
     "name": "stdout",
     "output_type": "stream",
     "text": [
      "[10 20 30 40]\n"
     ]
    }
   ],
   "source": [
    "#12\n",
    "a = np.array([10, 15, 20, 25, 30, 35, 40])\n",
    "\n",
    "\n",
    "result = a[::2]\n",
    "\n",
    "print(result)"
   ]
  },
  {
   "cell_type": "code",
   "execution_count": null,
   "id": "e1ea537f-765a-4cf6-aec1-2548cda00093",
   "metadata": {},
   "outputs": [],
   "source": [
    "#13\n",
    "a = np.array([1, 2, 3])\n",
    "\n",
    "\n",
    "print(a.dtype)"
   ]
  },
  {
   "cell_type": "code",
   "execution_count": 10,
   "id": "25822cd7-8c42-449d-bd50-45923c90ffad",
   "metadata": {},
   "outputs": [
    {
     "name": "stdout",
     "output_type": "stream",
     "text": [
      "|S1\n",
      "b'12'\n",
      "9\n",
      "b'513'\n"
     ]
    }
   ],
   "source": [
    "#14\n",
    "a = np.array([1, 2, 3, 4], dtype='S')\n",
    "print(a.dtype)\n",
    "print(a[0] + a[1])\n",
    "a = np.array([5, 1, -1, 3], dtype='S')\n",
    "b = a.astype('i') # what happens here? \n",
    "print(b[0] + b[1] + b[3]) \n",
    "print(a[0] + a[1] + a[3])"
   ]
  },
  {
   "cell_type": "code",
   "execution_count": 11,
   "id": "68c332b3-e032-4914-a0b6-0eb594e3058c",
   "metadata": {},
   "outputs": [
    {
     "name": "stdout",
     "output_type": "stream",
     "text": [
      "[1 2 3]\n"
     ]
    }
   ],
   "source": [
    "#15\n",
    "a = np.array([1.1, 2.1, 3.1])\n",
    "b = a.astype(int)\n",
    "print(b)"
   ]
  },
  {
   "cell_type": "code",
   "execution_count": 12,
   "id": "54c1932e-33d9-4175-8471-e65298a4e82d",
   "metadata": {},
   "outputs": [
    {
     "name": "stdout",
     "output_type": "stream",
     "text": [
      "[1 2 3 4 5]\n",
      "[-25   2   3   4   5]\n"
     ]
    }
   ],
   "source": [
    "#16\n",
    "a = np.array([1, 2, 3, 4, 5])\n",
    "x = a.copy()\n",
    "x[0] = -5\n",
    "print(a) \n",
    "b = a\n",
    "b[0] = -25\n",
    "print(a)"
   ]
  },
  {
   "cell_type": "code",
   "execution_count": 13,
   "id": "97c77de5-7a96-42de-a38b-eb0840b202a1",
   "metadata": {},
   "outputs": [
    {
     "name": "stdout",
     "output_type": "stream",
     "text": [
      "None\n",
      "[1 2 3 4 5]\n",
      "None\n",
      "None\n"
     ]
    }
   ],
   "source": [
    "#17\n",
    "a = np.array([1, 2, 3, 4, 5])\n",
    "d = a[:]\n",
    "\n",
    "#     then predict the effect of these expressions:\n",
    "\n",
    "print(a.base)\n",
    "print(d.base) # why is this different from all the others?\n",
    "b = a\n",
    "print(b.base)\n",
    "c = a.copy()\n",
    "print(c.base)"
   ]
  },
  {
   "cell_type": "code",
   "execution_count": 15,
   "id": "8aeac576-d129-4c7f-8056-7ac45986b3ce",
   "metadata": {},
   "outputs": [
    {
     "name": "stdout",
     "output_type": "stream",
     "text": [
      "(4,)\n",
      "[1 2 3 4]\n",
      "[1 2 3 4]\n",
      "[1 2 3 4]\n"
     ]
    }
   ],
   "source": [
    "#18\n",
    "a = np.array([1, 2, 3, 4])\n",
    "print(a.shape)\n",
    "a.reshape(1, 4)\n",
    "print(a)\n",
    "a.reshape(2, 2)\n",
    "print(a)\n",
    "a.reshape(4, 1)\n",
    "print(a)\n"
   ]
  },
  {
   "cell_type": "code",
   "execution_count": 24,
   "id": "4fee3c13-f5e0-45f4-bb66-c2cbf739032a",
   "metadata": {},
   "outputs": [
    {
     "name": "stdout",
     "output_type": "stream",
     "text": [
      "[[1 2]\n",
      " [3 4]]\n",
      "[[ 1  2  3]\n",
      " [ 4  5  6]\n",
      " [ 7  8  9]\n",
      " [10 11 12]]\n",
      "[[ 1  2  3  4]\n",
      " [ 5  6  7  8]\n",
      " [ 9 10 11 12]]\n"
     ]
    }
   ],
   "source": [
    "#19\n",
    "a = np.array([1, 2, 3, 4])\n",
    "b=a.reshape(2,2)\n",
    "a=b[:]\n",
    "print(a)\n",
    "a = np.array([1, 2, 3, 4, 5, 6, 7, 8, 9, 10, 11, 12])\n",
    "b = a.reshape(4, 3)\n",
    "print(b)\n",
    "b = a.reshape(3, 4)\n",
    "print(b)\n",
    "\n"
   ]
  },
  {
   "cell_type": "code",
   "execution_count": 18,
   "id": "101208b3-2f0a-4ea8-a5c3-7bd6d7c51cf4",
   "metadata": {},
   "outputs": [
    {
     "name": "stdout",
     "output_type": "stream",
     "text": [
      "[ 1  2  3  4  5  6  7  8  9 10 11 12]\n"
     ]
    }
   ],
   "source": [
    "#20\n",
    "a = np.array([[1, 2, 3, 4, 5, 6], [7, 8, 9, 10, 11, 12]])\n",
    "b = a.reshape(-1) # complete this statement to result in the output below\n",
    "print(b)"
   ]
  },
  {
   "cell_type": "code",
   "execution_count": 19,
   "id": "4c000b49-d723-4c1e-bc11-3912bb9aad57",
   "metadata": {},
   "outputs": [
    {
     "name": "stdout",
     "output_type": "stream",
     "text": [
      "[[1 2 5 6]\n",
      " [3 4 7 8]]\n",
      "[[[1 2]\n",
      "  [3 4]]\n",
      "\n",
      " [[5 6]\n",
      "  [7 8]]]\n"
     ]
    }
   ],
   "source": [
    "#21\n",
    "a = np.array([1, 2, 3])\n",
    "b = np.array([4, 5, 6])\n",
    "c = np.concatenate((a, b))\n",
    "a = np.array([[1, 2], [3, 4]])\n",
    "b = np.array([[5, 6], [7, 8]])\n",
    "c = np.concatenate((a, b), axis=1) # what is the effect of the second parameter? \n",
    "print(c) # what gets printed and why? \n",
    "c  = np.stack((a, b), axis = 0) # what does stack do differently (if anything)? \n",
    "print(c)"
   ]
  },
  {
   "cell_type": "code",
   "execution_count": 20,
   "id": "9f5ac4d9-7864-48da-9f95-88e1d44e1026",
   "metadata": {},
   "outputs": [
    {
     "name": "stdout",
     "output_type": "stream",
     "text": [
      "(array([3, 5, 6]),)\n"
     ]
    }
   ],
   "source": [
    "# 22\n",
    "import numpy as np\n",
    "\n",
    "a = np.array([1, 2, 3, 4, 5, 4, 4])\n",
    "\n",
    "# Find all items with value 4\n",
    "where = np.where(a == 4)\n",
    "\n",
    "print(where)\n"
   ]
  },
  {
   "cell_type": "code",
   "execution_count": 21,
   "id": "7c6bab04-31cf-476f-b740-d96f045e62b3",
   "metadata": {},
   "outputs": [
    {
     "name": "stdout",
     "output_type": "stream",
     "text": [
      "[0 1 2 3]\n"
     ]
    }
   ],
   "source": [
    "#23\n",
    "import numpy as np\n",
    "\n",
    "a = np.array([3, 2, 0, 1])\n",
    "\n",
    "# Return a sorted array\n",
    "b = np.sort(a)\n",
    "\n",
    "print(b)\n"
   ]
  },
  {
   "cell_type": "code",
   "execution_count": null,
   "id": "98a75c73-e977-43d8-9c85-298c02fa7137",
   "metadata": {},
   "outputs": [],
   "source": []
  },
  {
   "cell_type": "code",
   "execution_count": null,
   "id": "edc6054b-018a-4a72-a73b-b0d002f0065d",
   "metadata": {},
   "outputs": [],
   "source": []
  }
 ],
 "metadata": {
  "kernelspec": {
   "display_name": "Python 3 (ipykernel)",
   "language": "python",
   "name": "python3"
  },
  "language_info": {
   "codemirror_mode": {
    "name": "ipython",
    "version": 3
   },
   "file_extension": ".py",
   "mimetype": "text/x-python",
   "name": "python",
   "nbconvert_exporter": "python",
   "pygments_lexer": "ipython3",
   "version": "3.11.4"
  }
 },
 "nbformat": 4,
 "nbformat_minor": 5
}
